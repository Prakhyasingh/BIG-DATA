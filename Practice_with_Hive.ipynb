{
  "nbformat": 4,
  "nbformat_minor": 0,
  "metadata": {
    "colab": {
      "provenance": [],
      "authorship_tag": "ABX9TyPpX9HzOlT68w7mz0ZNVhSx",
      "include_colab_link": true
    },
    "kernelspec": {
      "name": "python3",
      "display_name": "Python 3"
    },
    "language_info": {
      "name": "python"
    }
  },
  "cells": [
    {
      "cell_type": "markdown",
      "metadata": {
        "id": "view-in-github",
        "colab_type": "text"
      },
      "source": [
        "<a href=\"https://colab.research.google.com/github/Prakhyasingh/BIG-DATA/blob/main/Practice_with_Hive.ipynb\" target=\"_parent\"><img src=\"https://colab.research.google.com/assets/colab-badge.svg\" alt=\"Open In Colab\"/></a>"
      ]
    },
    {
      "cell_type": "markdown",
      "source": [
        "##PRACTICE WITH HIVE\n"
      ],
      "metadata": {
        "id": "EviXSc5oFc_0"
      }
    },
    {
      "cell_type": "markdown",
      "source": [],
      "metadata": {
        "id": "I88Y1Y0DHbuj"
      }
    },
    {
      "cell_type": "code",
      "source": [
        "# Step 1: Set Up PySpark in Google Colab\n",
        "# Install PySpark\n",
        "!pip install pyspark\n",
        "\n",
        "# Install Java\n",
        "!apt-get install openjdk-8-jdk-headless -qq > /dev/null\n",
        "\n",
        "# Set JAVA_HOME environment variable\n",
        "import os\n",
        "os.environ[\"JAVA_HOME\"] = \"/usr/lib/jvm/java-8-openjdk-amd64\"\n",
        "\n",
        "# Import Libraries\n",
        "import pandas as pd\n",
        "from pyspark.sql import SparkSession\n",
        "\n",
        "# Create Spark session\n",
        "spark = SparkSession.builder \\\n",
        "    .appName(\"BostonHousing\") \\\n",
        "    .getOrCreate()\n",
        "\n",
        "# Step 2: Load the Dataset\n",
        "from google.colab import files\n",
        "\n",
        "# Upload the file\n",
        "uploaded = files.upload()\n",
        "\n",
        "file_name = \"BostonHousing (1).csv\"\n",
        "\n",
        "# Read the CSV file into a Spark DataFrame\n",
        "spark_df = spark.read.csv(file_name, header=True, inferSchema=True)\n",
        "\n",
        "# Step 3: Create a Temporary View\n",
        "spark_df.createOrReplaceTempView(\"BostonHousing\")\n",
        "\n",
        "\n"
      ],
      "metadata": {
        "colab": {
          "base_uri": "https://localhost:8080/",
          "height": 108
        },
        "collapsed": true,
        "id": "3pZVVnJfFoMh",
        "outputId": "6d98ff5d-6bf8-473e-b87a-cc7f1b3e9dc2"
      },
      "execution_count": 35,
      "outputs": [
        {
          "output_type": "stream",
          "name": "stdout",
          "text": [
            "Requirement already satisfied: pyspark in /usr/local/lib/python3.10/dist-packages (3.5.1)\n",
            "Requirement already satisfied: py4j==0.10.9.7 in /usr/local/lib/python3.10/dist-packages (from pyspark) (0.10.9.7)\n"
          ]
        },
        {
          "output_type": "display_data",
          "data": {
            "text/plain": [
              "<IPython.core.display.HTML object>"
            ],
            "text/html": [
              "\n",
              "     <input type=\"file\" id=\"files-03e3a67d-2b90-41cd-9a77-8c662a119482\" name=\"files[]\" multiple disabled\n",
              "        style=\"border:none\" />\n",
              "     <output id=\"result-03e3a67d-2b90-41cd-9a77-8c662a119482\">\n",
              "      Upload widget is only available when the cell has been executed in the\n",
              "      current browser session. Please rerun this cell to enable.\n",
              "      </output>\n",
              "      <script>// Copyright 2017 Google LLC\n",
              "//\n",
              "// Licensed under the Apache License, Version 2.0 (the \"License\");\n",
              "// you may not use this file except in compliance with the License.\n",
              "// You may obtain a copy of the License at\n",
              "//\n",
              "//      http://www.apache.org/licenses/LICENSE-2.0\n",
              "//\n",
              "// Unless required by applicable law or agreed to in writing, software\n",
              "// distributed under the License is distributed on an \"AS IS\" BASIS,\n",
              "// WITHOUT WARRANTIES OR CONDITIONS OF ANY KIND, either express or implied.\n",
              "// See the License for the specific language governing permissions and\n",
              "// limitations under the License.\n",
              "\n",
              "/**\n",
              " * @fileoverview Helpers for google.colab Python module.\n",
              " */\n",
              "(function(scope) {\n",
              "function span(text, styleAttributes = {}) {\n",
              "  const element = document.createElement('span');\n",
              "  element.textContent = text;\n",
              "  for (const key of Object.keys(styleAttributes)) {\n",
              "    element.style[key] = styleAttributes[key];\n",
              "  }\n",
              "  return element;\n",
              "}\n",
              "\n",
              "// Max number of bytes which will be uploaded at a time.\n",
              "const MAX_PAYLOAD_SIZE = 100 * 1024;\n",
              "\n",
              "function _uploadFiles(inputId, outputId) {\n",
              "  const steps = uploadFilesStep(inputId, outputId);\n",
              "  const outputElement = document.getElementById(outputId);\n",
              "  // Cache steps on the outputElement to make it available for the next call\n",
              "  // to uploadFilesContinue from Python.\n",
              "  outputElement.steps = steps;\n",
              "\n",
              "  return _uploadFilesContinue(outputId);\n",
              "}\n",
              "\n",
              "// This is roughly an async generator (not supported in the browser yet),\n",
              "// where there are multiple asynchronous steps and the Python side is going\n",
              "// to poll for completion of each step.\n",
              "// This uses a Promise to block the python side on completion of each step,\n",
              "// then passes the result of the previous step as the input to the next step.\n",
              "function _uploadFilesContinue(outputId) {\n",
              "  const outputElement = document.getElementById(outputId);\n",
              "  const steps = outputElement.steps;\n",
              "\n",
              "  const next = steps.next(outputElement.lastPromiseValue);\n",
              "  return Promise.resolve(next.value.promise).then((value) => {\n",
              "    // Cache the last promise value to make it available to the next\n",
              "    // step of the generator.\n",
              "    outputElement.lastPromiseValue = value;\n",
              "    return next.value.response;\n",
              "  });\n",
              "}\n",
              "\n",
              "/**\n",
              " * Generator function which is called between each async step of the upload\n",
              " * process.\n",
              " * @param {string} inputId Element ID of the input file picker element.\n",
              " * @param {string} outputId Element ID of the output display.\n",
              " * @return {!Iterable<!Object>} Iterable of next steps.\n",
              " */\n",
              "function* uploadFilesStep(inputId, outputId) {\n",
              "  const inputElement = document.getElementById(inputId);\n",
              "  inputElement.disabled = false;\n",
              "\n",
              "  const outputElement = document.getElementById(outputId);\n",
              "  outputElement.innerHTML = '';\n",
              "\n",
              "  const pickedPromise = new Promise((resolve) => {\n",
              "    inputElement.addEventListener('change', (e) => {\n",
              "      resolve(e.target.files);\n",
              "    });\n",
              "  });\n",
              "\n",
              "  const cancel = document.createElement('button');\n",
              "  inputElement.parentElement.appendChild(cancel);\n",
              "  cancel.textContent = 'Cancel upload';\n",
              "  const cancelPromise = new Promise((resolve) => {\n",
              "    cancel.onclick = () => {\n",
              "      resolve(null);\n",
              "    };\n",
              "  });\n",
              "\n",
              "  // Wait for the user to pick the files.\n",
              "  const files = yield {\n",
              "    promise: Promise.race([pickedPromise, cancelPromise]),\n",
              "    response: {\n",
              "      action: 'starting',\n",
              "    }\n",
              "  };\n",
              "\n",
              "  cancel.remove();\n",
              "\n",
              "  // Disable the input element since further picks are not allowed.\n",
              "  inputElement.disabled = true;\n",
              "\n",
              "  if (!files) {\n",
              "    return {\n",
              "      response: {\n",
              "        action: 'complete',\n",
              "      }\n",
              "    };\n",
              "  }\n",
              "\n",
              "  for (const file of files) {\n",
              "    const li = document.createElement('li');\n",
              "    li.append(span(file.name, {fontWeight: 'bold'}));\n",
              "    li.append(span(\n",
              "        `(${file.type || 'n/a'}) - ${file.size} bytes, ` +\n",
              "        `last modified: ${\n",
              "            file.lastModifiedDate ? file.lastModifiedDate.toLocaleDateString() :\n",
              "                                    'n/a'} - `));\n",
              "    const percent = span('0% done');\n",
              "    li.appendChild(percent);\n",
              "\n",
              "    outputElement.appendChild(li);\n",
              "\n",
              "    const fileDataPromise = new Promise((resolve) => {\n",
              "      const reader = new FileReader();\n",
              "      reader.onload = (e) => {\n",
              "        resolve(e.target.result);\n",
              "      };\n",
              "      reader.readAsArrayBuffer(file);\n",
              "    });\n",
              "    // Wait for the data to be ready.\n",
              "    let fileData = yield {\n",
              "      promise: fileDataPromise,\n",
              "      response: {\n",
              "        action: 'continue',\n",
              "      }\n",
              "    };\n",
              "\n",
              "    // Use a chunked sending to avoid message size limits. See b/62115660.\n",
              "    let position = 0;\n",
              "    do {\n",
              "      const length = Math.min(fileData.byteLength - position, MAX_PAYLOAD_SIZE);\n",
              "      const chunk = new Uint8Array(fileData, position, length);\n",
              "      position += length;\n",
              "\n",
              "      const base64 = btoa(String.fromCharCode.apply(null, chunk));\n",
              "      yield {\n",
              "        response: {\n",
              "          action: 'append',\n",
              "          file: file.name,\n",
              "          data: base64,\n",
              "        },\n",
              "      };\n",
              "\n",
              "      let percentDone = fileData.byteLength === 0 ?\n",
              "          100 :\n",
              "          Math.round((position / fileData.byteLength) * 100);\n",
              "      percent.textContent = `${percentDone}% done`;\n",
              "\n",
              "    } while (position < fileData.byteLength);\n",
              "  }\n",
              "\n",
              "  // All done.\n",
              "  yield {\n",
              "    response: {\n",
              "      action: 'complete',\n",
              "    }\n",
              "  };\n",
              "}\n",
              "\n",
              "scope.google = scope.google || {};\n",
              "scope.google.colab = scope.google.colab || {};\n",
              "scope.google.colab._files = {\n",
              "  _uploadFiles,\n",
              "  _uploadFilesContinue,\n",
              "};\n",
              "})(self);\n",
              "</script> "
            ]
          },
          "metadata": {}
        },
        {
          "output_type": "stream",
          "name": "stdout",
          "text": [
            "Saving BostonHousing.csv to BostonHousing (3).csv\n"
          ]
        }
      ]
    },
    {
      "cell_type": "markdown",
      "source": [
        "TASK 01: Data Overview"
      ],
      "metadata": {
        "id": "3YnBiJmmJsou"
      }
    },
    {
      "cell_type": "code",
      "source": [
        "# Run HiveQL-like Queries using Spark SQL\n",
        "\n",
        "# Retrieve and display the first 5 rows\n",
        "first_five_rows = spark.sql(\"SELECT * FROM BostonHousing LIMIT 5\")\n",
        "first_five_rows.show()\n",
        "\n",
        "# Count the total number of records\n",
        "total_records = spark.sql(\"SELECT COUNT(*) FROM BostonHousing\")\n",
        "total_records.show()"
      ],
      "metadata": {
        "colab": {
          "base_uri": "https://localhost:8080/"
        },
        "id": "6tD5P4iNJxXi",
        "outputId": "5b580e85-f51e-4696-f64f-2afa3bdbd2d2"
      },
      "execution_count": 36,
      "outputs": [
        {
          "output_type": "stream",
          "name": "stdout",
          "text": [
            "+-------+----+-----+----+-----+-----+----+------+---+---+-------+------+-----+----+\n",
            "|   crim|  zn|indus|chas|  nox|   rm| age|   dis|rad|tax|ptratio|     b|lstat|medv|\n",
            "+-------+----+-----+----+-----+-----+----+------+---+---+-------+------+-----+----+\n",
            "|0.00632|18.0| 2.31|   0|0.538|6.575|65.2|  4.09|  1|296|   15.3| 396.9| 4.98|24.0|\n",
            "|0.02731| 0.0| 7.07|   0|0.469|6.421|78.9|4.9671|  2|242|   17.8| 396.9| 9.14|21.6|\n",
            "|0.02729| 0.0| 7.07|   0|0.469|7.185|61.1|4.9671|  2|242|   17.8|392.83| 4.03|34.7|\n",
            "|0.03237| 0.0| 2.18|   0|0.458|6.998|45.8|6.0622|  3|222|   18.7|394.63| 2.94|33.4|\n",
            "|0.06905| 0.0| 2.18|   0|0.458|7.147|54.2|6.0622|  3|222|   18.7| 396.9| 5.33|36.2|\n",
            "+-------+----+-----+----+-----+-----+----+------+---+---+-------+------+-----+----+\n",
            "\n",
            "+--------+\n",
            "|count(1)|\n",
            "+--------+\n",
            "|     506|\n",
            "+--------+\n",
            "\n"
          ]
        }
      ]
    },
    {
      "cell_type": "markdown",
      "source": [
        "TASK 02\n"
      ],
      "metadata": {
        "id": "Q0o0-p72HfmG"
      }
    },
    {
      "cell_type": "code",
      "source": [
        "# Calculate basic statistics for \"medv\" (median home value)\n",
        "medv_stats = spark_df.selectExpr(\"mean(medv) as mean_medv\",\n",
        "                                 \"stddev_samp(medv) as stddev_medv\",\n",
        "                                 \"min(medv) as min_medv\",\n",
        "                                 \"max(medv) as max_medv\").collect()[0]\n",
        "\n",
        "print(\"Statistics for 'medv' (Median Home Value):\")\n",
        "print(f\"Mean: {medv_stats['mean_medv']:.2f}\")\n",
        "print(f\"Standard Deviation: {medv_stats['stddev_medv']:.2f}\")\n",
        "print(f\"Minimum: {medv_stats['min_medv']:.2f}\")\n",
        "print(f\"Maximum: {medv_stats['max_medv']:.2f}\")\n",
        "\n",
        "# Calculate mean \"rm\" (average number of rooms)\n",
        "mean_rm = spark_df.agg({\"rm\": \"mean\"}).collect()[0][0]\n",
        "print(\"\\nMean of 'rm' (Average Number of Rooms per Dwelling):\")\n",
        "print(f\"{mean_rm:.2f}\")\n"
      ],
      "metadata": {
        "colab": {
          "base_uri": "https://localhost:8080/"
        },
        "id": "6Ipb-ao5FgbJ",
        "outputId": "8bb448b2-3641-4f35-b38f-6c5f62e79e41"
      },
      "execution_count": 37,
      "outputs": [
        {
          "output_type": "stream",
          "name": "stdout",
          "text": [
            "Statistics for 'medv' (Median Home Value):\n",
            "Mean: 22.53\n",
            "Standard Deviation: 9.20\n",
            "Minimum: 5.00\n",
            "Maximum: 50.00\n",
            "\n",
            "Mean of 'rm' (Average Number of Rooms per Dwelling):\n",
            "6.28\n"
          ]
        }
      ]
    },
    {
      "cell_type": "markdown",
      "source": [
        "TASK 03\n"
      ],
      "metadata": {
        "id": "otbB51XNH5xR"
      }
    },
    {
      "cell_type": "code",
      "source": [
        "# Identify property with the highest crime rate (\"crim\")\n",
        "highest_crim_property = spark_df.orderBy(spark_df[\"crim\"].desc()).first()\n",
        "print(\"\\nProperty with Highest Crime Rate:\")\n",
        "print(highest_crim_property)\n",
        "\n",
        "# Find property with the lowest median home value (\"medv\")\n",
        "lowest_medv_property = spark_df.orderBy(spark_df[\"medv\"]).first()\n",
        "print(\"\\nProperty with Lowest Median Home Value:\")\n",
        "print(lowest_medv_property)\n"
      ],
      "metadata": {
        "colab": {
          "base_uri": "https://localhost:8080/"
        },
        "id": "ywQkJMv5H8P9",
        "outputId": "9024924e-02d5-452a-f59b-4b4837359a26"
      },
      "execution_count": 38,
      "outputs": [
        {
          "output_type": "stream",
          "name": "stdout",
          "text": [
            "\n",
            "Property with Highest Crime Rate:\n",
            "Row(crim=88.9762, zn=0.0, indus=18.1, chas=0, nox=0.671, rm=6.968, age=91.9, dis=1.4165, rad=24, tax=666, ptratio=20.2, b=396.9, lstat=17.21, medv=10.4)\n",
            "\n",
            "Property with Lowest Median Home Value:\n",
            "Row(crim=38.3518, zn=0.0, indus=18.1, chas=0, nox=0.693, rm=5.453, age=100.0, dis=1.4896, rad=24, tax=666, ptratio=20.2, b=396.9, lstat=30.59, medv=5.0)\n"
          ]
        }
      ]
    },
    {
      "cell_type": "markdown",
      "source": [
        "TASK 04: Data Distribution Analysis"
      ],
      "metadata": {
        "id": "F8gE2Pk9ICdn"
      }
    },
    {
      "cell_type": "code",
      "source": [
        "import matplotlib.pyplot as plt\n",
        "\n",
        "# Convert Spark DataFrame to Pandas DataFrame for visualization\n",
        "age_df = spark_df.select(\"age\").toPandas()\n",
        "\n",
        "# Plot histogram of \"age\" column\n",
        "plt.figure(figsize=(8, 5))\n",
        "plt.hist(age_df[\"age\"], bins=20, edgecolor='black')\n",
        "plt.title(\"Distribution of Property Age\")\n",
        "plt.xlabel(\"Age\")\n",
        "plt.ylabel(\"Frequency\")\n",
        "plt.grid(True)\n",
        "plt.show()\n",
        "\n",
        "# Calculate percentage of properties with \"chas\" value of 1\n",
        "num_chas_properties = spark_df.filter(spark_df[\"chas\"] == 1).count()\n",
        "total_properties = spark_df.count()\n",
        "percentage_chas = (num_chas_properties / total_properties) * 100\n",
        "print(f\"\\nPercentage of Properties with 'chas' Value of 1: {percentage_chas:.2f}%\")\n"
      ],
      "metadata": {
        "colab": {
          "base_uri": "https://localhost:8080/",
          "height": 522
        },
        "id": "dCL73PYkID-K",
        "outputId": "83bac615-c45a-403a-83c6-7a949169f40b"
      },
      "execution_count": 39,
      "outputs": [
        {
          "output_type": "display_data",
          "data": {
            "text/plain": [
              "<Figure size 800x500 with 1 Axes>"
            ],
            "image/png": "[encoded data removed]"
          },
          "metadata": {}
        },
        {
          "output_type": "stream",
          "name": "stdout",
          "text": [
            "\n",
            "Percentage of Properties with 'chas' Value of 1: 6.92%\n"
          ]
        }
      ]
    },
    {
      "cell_type": "markdown",
      "source": [
        "TASK 05: CORRELATION ANALYSIS\n"
      ],
      "metadata": {
        "id": "Ud5n1CrXIU5t"
      }
    },
    {
      "cell_type": "code",
      "source": [
        "# Calculate correlation coefficient between \"rm\" and \"medv\"\n",
        "correlation_rm_medv = spark_df.stat.corr(\"rm\", \"medv\")\n",
        "print(\"\\nCorrelation between 'rm' and 'medv':\", correlation_rm_medv)\n",
        "\n",
        "# Investigate correlation between \"ptratio\" and \"nox\"\n",
        "correlation_ptratio_nox = spark_df.stat.corr(\"ptratio\", \"nox\")\n",
        "print(\"Correlation between 'ptratio' and 'nox':\", correlation_ptratio_nox)\n"
      ],
      "metadata": {
        "colab": {
          "base_uri": "https://localhost:8080/"
        },
        "id": "KWvHKTi-IaZD",
        "outputId": "059e6a95-0f5d-48da-92f2-0a479c0f2ed4"
      },
      "execution_count": 40,
      "outputs": [
        {
          "output_type": "stream",
          "name": "stdout",
          "text": [
            "\n",
            "Correlation between 'rm' and 'medv': 0.6953599470715401\n",
            "Correlation between 'ptratio' and 'nox': 0.18893267711276893\n"
          ]
        }
      ]
    },
    {
      "cell_type": "markdown",
      "source": [
        "TASK 06: ADVANCE QUERYING"
      ],
      "metadata": {
        "id": "lEdkb8MuIfiB"
      }
    },
    {
      "cell_type": "code",
      "source": [
        "# Top 5 neighborhoods with highest median home values (\"medv\")\n",
        "top_neighborhoods = spark.sql(\"SELECT zn AS neighborhood, AVG(medv) AS avg_medv \"\n",
        "                              \"FROM BostonHousing \"\n",
        "                              \"GROUP BY zn \"\n",
        "                              \"ORDER BY avg_medv DESC \"\n",
        "                              \"LIMIT 5\")\n",
        "print(\"\\nTop 5 Neighborhoods with Highest Median Home Values:\")\n",
        "top_neighborhoods.show()\n",
        "\n",
        "# Average property age for neighborhoods with \"chas\" value of 1 vs 0\n",
        "avg_age_chas_1 = spark.sql(\"SELECT AVG(age) AS avg_age_chas_1 \"\n",
        "                           \"FROM BostonHousing \"\n",
        "                           \"WHERE chas = 1\").collect()[0][\"avg_age_chas_1\"]\n",
        "\n",
        "avg_age_chas_0 = spark.sql(\"SELECT AVG(age) AS avg_age_chas_0 \"\n",
        "                           \"FROM BostonHousing \"\n",
        "                           \"WHERE chas = 0\").collect()[0][\"avg_age_chas_0\"]\n",
        "\n",
        "print(f\"\\nAverage Property Age for Neighborhoods with 'chas' Value of 1: {avg_age_chas_1:.2f}\")\n",
        "print(f\"Average Property Age for Neighborhoods with 'chas' Value of 0: {avg_age_chas_0:.2f}\")\n"
      ],
      "metadata": {
        "colab": {
          "base_uri": "https://localhost:8080/"
        },
        "id": "PLAbr-qxInCu",
        "outputId": "f5aeb9f7-54ac-412d-9de4-f8a09c3b02a7"
      },
      "execution_count": 41,
      "outputs": [
        {
          "output_type": "stream",
          "name": "stdout",
          "text": [
            "\n",
            "Top 5 Neighborhoods with Highest Median Home Values:\n",
            "+------------+-----------------+\n",
            "|neighborhood|         avg_medv|\n",
            "+------------+-----------------+\n",
            "|        95.0|           41.575|\n",
            "|        90.0|            38.34|\n",
            "|        20.0|35.46666666666666|\n",
            "|        45.0|33.43333333333333|\n",
            "|        82.5|             33.2|\n",
            "+------------+-----------------+\n",
            "\n",
            "\n",
            "Average Property Age for Neighborhoods with 'chas' Value of 1: 77.50\n",
            "Average Property Age for Neighborhoods with 'chas' Value of 0: 67.91\n"
          ]
        }
      ]
    },
    {
      "cell_type": "markdown",
      "source": [
        "TASK 07: VISUALIZATION"
      ],
      "metadata": {
        "id": "zwhOXUfyJJwW"
      }
    },
    {
      "cell_type": "code",
      "source": [
        "# Create a Hive view named \"property_age_view\"\n",
        "spark_df.createOrReplaceTempView(\"property_age_view\")\n",
        "\n",
        "# Scatter plot of property age vs median home value\n",
        "age_medv_df = spark.sql(\"SELECT age, medv FROM property_age_view\").toPandas()\n",
        "\n",
        "plt.figure(figsize=(8, 6))\n",
        "plt.scatter(age_medv_df[\"age\"], age_medv_df[\"medv\"], alpha=0.6, edgecolors='w')\n",
        "plt.title(\"Property Age vs Median Home Value\")\n",
        "plt.xlabel(\"Age\")\n",
        "plt.ylabel(\"Median Home Value\")\n",
        "plt.grid(True)\n",
        "plt.show()\n"
      ],
      "metadata": {
        "colab": {
          "base_uri": "https://localhost:8080/",
          "height": 564
        },
        "id": "BnhAp3RlJQLR",
        "outputId": "d9bd90de-791e-4815-e34b-d3df2974a69c"
      },
      "execution_count": 42,
      "outputs": [
        {
          "output_type": "display_data",
          "data": {
            "text/plain": [
              "<Figure size 800x600 with 1 Axes>"
            ],
            "image/png": "[encoded data removed]"
          },
          "metadata": {}
        }
      ]
    },
    {
      "cell_type": "markdown",
      "source": [
        "TASK 08: OUTLIERS DETECTION"
      ],
      "metadata": {
        "id": "PCQz0ZduJT6L"
      }
    },
    {
      "cell_type": "code",
      "source": [
        "# Properties with \"crim\" value greater than 10\n",
        "outliers = spark_df.filter(spark_df[\"crim\"] > 10).collect()\n",
        "print(\"\\nProperties with 'crim' Value Greater Than 10:\")\n",
        "for property in outliers:\n",
        "    print(property)\n"
      ],
      "metadata": {
        "colab": {
          "base_uri": "https://localhost:8080/"
        },
        "id": "XUhcrU2AJZf0",
        "outputId": "4ae2c788-6bc6-46a9-bb42-a22e369696a9"
      },
      "execution_count": 43,
      "outputs": [
        {
          "output_type": "stream",
          "name": "stdout",
          "text": [
            "\n",
            "Properties with 'crim' Value Greater Than 10:\n",
            "Row(crim=13.5222, zn=0.0, indus=18.1, chas=0, nox=0.631, rm=3.863, age=100.0, dis=1.5106, rad=24, tax=666, ptratio=20.2, b=131.42, lstat=13.33, medv=23.1)\n",
            "Row(crim=11.1081, zn=0.0, indus=18.1, chas=0, nox=0.668, rm=4.906, age=100.0, dis=1.1742, rad=24, tax=666, ptratio=20.2, b=396.9, lstat=34.77, medv=13.8)\n",
            "Row(crim=18.4982, zn=0.0, indus=18.1, chas=0, nox=0.668, rm=4.138, age=100.0, dis=1.137, rad=24, tax=666, ptratio=20.2, b=396.9, lstat=37.97, medv=13.8)\n",
            "Row(crim=19.6091, zn=0.0, indus=18.1, chas=0, nox=0.671, rm=7.313, age=97.9, dis=1.3163, rad=24, tax=666, ptratio=20.2, b=396.9, lstat=13.44, medv=15.0)\n",
            "Row(crim=15.288, zn=0.0, indus=18.1, chas=0, nox=0.671, rm=6.649, age=93.3, dis=1.3449, rad=24, tax=666, ptratio=20.2, b=363.02, lstat=23.24, medv=13.9)\n",
            "Row(crim=23.6482, zn=0.0, indus=18.1, chas=0, nox=0.671, rm=6.38, age=96.2, dis=1.3861, rad=24, tax=666, ptratio=20.2, b=396.9, lstat=23.69, medv=13.1)\n",
            "Row(crim=17.8667, zn=0.0, indus=18.1, chas=0, nox=0.671, rm=6.223, age=100.0, dis=1.3861, rad=24, tax=666, ptratio=20.2, b=393.74, lstat=21.78, medv=10.2)\n",
            "Row(crim=88.9762, zn=0.0, indus=18.1, chas=0, nox=0.671, rm=6.968, age=91.9, dis=1.4165, rad=24, tax=666, ptratio=20.2, b=396.9, lstat=17.21, medv=10.4)\n",
            "Row(crim=15.8744, zn=0.0, indus=18.1, chas=0, nox=0.671, rm=6.545, age=99.1, dis=1.5192, rad=24, tax=666, ptratio=20.2, b=396.9, lstat=21.08, medv=10.9)\n",
            "Row(crim=20.0849, zn=0.0, indus=18.1, chas=0, nox=0.7, rm=4.368, age=91.2, dis=1.4395, rad=24, tax=666, ptratio=20.2, b=285.83, lstat=30.63, medv=8.8)\n",
            "Row(crim=16.8118, zn=0.0, indus=18.1, chas=0, nox=0.7, rm=5.277, age=98.1, dis=1.4261, rad=24, tax=666, ptratio=20.2, b=396.9, lstat=30.81, medv=7.2)\n",
            "Row(crim=24.3938, zn=0.0, indus=18.1, chas=0, nox=0.7, rm=4.652, age=100.0, dis=1.4672, rad=24, tax=666, ptratio=20.2, b=396.9, lstat=28.28, medv=10.5)\n",
            "Row(crim=22.5971, zn=0.0, indus=18.1, chas=0, nox=0.7, rm=5.0, age=89.5, dis=1.5184, rad=24, tax=666, ptratio=20.2, b=396.9, lstat=31.99, medv=7.4)\n",
            "Row(crim=14.3337, zn=0.0, indus=18.1, chas=0, nox=0.7, rm=4.88, age=100.0, dis=1.5895, rad=24, tax=666, ptratio=20.2, b=372.92, lstat=30.62, medv=10.2)\n",
            "Row(crim=11.5779, zn=0.0, indus=18.1, chas=0, nox=0.7, rm=5.036, age=97.0, dis=1.77, rad=24, tax=666, ptratio=20.2, b=396.9, lstat=25.68, medv=9.7)\n",
            "Row(crim=13.3598, zn=0.0, indus=18.1, chas=0, nox=0.693, rm=5.887, age=94.7, dis=1.7821, rad=24, tax=666, ptratio=20.2, b=396.9, lstat=16.35, medv=12.7)\n",
            "Row(crim=38.3518, zn=0.0, indus=18.1, chas=0, nox=0.693, rm=5.453, age=100.0, dis=1.4896, rad=24, tax=666, ptratio=20.2, b=396.9, lstat=30.59, medv=5.0)\n",
            "Row(crim=25.0461, zn=0.0, indus=18.1, chas=0, nox=0.693, rm=5.987, age=100.0, dis=1.5888, rad=24, tax=666, ptratio=20.2, b=396.9, lstat=26.77, medv=5.6)\n",
            "Row(crim=14.2362, zn=0.0, indus=18.1, chas=0, nox=0.693, rm=6.343, age=100.0, dis=1.5741, rad=24, tax=666, ptratio=20.2, b=396.9, lstat=20.32, medv=7.2)\n",
            "Row(crim=24.8017, zn=0.0, indus=18.1, chas=0, nox=0.693, rm=5.349, age=96.0, dis=1.7028, rad=24, tax=666, ptratio=20.2, b=396.9, lstat=19.77, medv=8.3)\n",
            "Row(crim=41.5292, zn=0.0, indus=18.1, chas=0, nox=0.693, rm=5.531, age=85.4, dis=1.6074, rad=24, tax=666, ptratio=20.2, b=329.46, lstat=27.38, medv=8.5)\n",
            "Row(crim=67.9208, zn=0.0, indus=18.1, chas=0, nox=0.693, rm=5.683, age=100.0, dis=1.4254, rad=24, tax=666, ptratio=20.2, b=384.97, lstat=22.98, medv=5.0)\n",
            "Row(crim=20.7162, zn=0.0, indus=18.1, chas=0, nox=0.659, rm=4.138, age=100.0, dis=1.1781, rad=24, tax=666, ptratio=20.2, b=370.22, lstat=23.34, medv=11.9)\n",
            "Row(crim=11.9511, zn=0.0, indus=18.1, chas=0, nox=0.659, rm=5.608, age=100.0, dis=1.2852, rad=24, tax=666, ptratio=20.2, b=332.09, lstat=12.13, medv=27.9)\n",
            "Row(crim=14.4383, zn=0.0, indus=18.1, chas=0, nox=0.597, rm=6.852, age=100.0, dis=1.4655, rad=24, tax=666, ptratio=20.2, b=179.36, lstat=19.78, medv=27.5)\n",
            "Row(crim=51.1358, zn=0.0, indus=18.1, chas=0, nox=0.597, rm=5.757, age=100.0, dis=1.413, rad=24, tax=666, ptratio=20.2, b=2.6, lstat=10.11, medv=15.0)\n",
            "Row(crim=14.0507, zn=0.0, indus=18.1, chas=0, nox=0.597, rm=6.657, age=100.0, dis=1.5275, rad=24, tax=666, ptratio=20.2, b=35.05, lstat=21.22, medv=17.2)\n",
            "Row(crim=18.811, zn=0.0, indus=18.1, chas=0, nox=0.597, rm=4.628, age=100.0, dis=1.5539, rad=24, tax=666, ptratio=20.2, b=28.79, lstat=34.37, medv=17.9)\n",
            "Row(crim=28.6558, zn=0.0, indus=18.1, chas=0, nox=0.597, rm=5.155, age=100.0, dis=1.5894, rad=24, tax=666, ptratio=20.2, b=210.97, lstat=20.08, medv=16.3)\n",
            "Row(crim=45.7461, zn=0.0, indus=18.1, chas=0, nox=0.693, rm=4.519, age=100.0, dis=1.6582, rad=24, tax=666, ptratio=20.2, b=88.27, lstat=36.98, medv=7.0)\n",
            "Row(crim=18.0846, zn=0.0, indus=18.1, chas=0, nox=0.679, rm=6.434, age=100.0, dis=1.8347, rad=24, tax=666, ptratio=20.2, b=27.25, lstat=29.05, medv=7.2)\n",
            "Row(crim=10.8342, zn=0.0, indus=18.1, chas=0, nox=0.679, rm=6.782, age=90.8, dis=1.8195, rad=24, tax=666, ptratio=20.2, b=21.57, lstat=25.79, medv=7.5)\n",
            "Row(crim=25.9406, zn=0.0, indus=18.1, chas=0, nox=0.679, rm=5.304, age=89.1, dis=1.6475, rad=24, tax=666, ptratio=20.2, b=127.36, lstat=26.64, medv=10.4)\n",
            "Row(crim=73.5341, zn=0.0, indus=18.1, chas=0, nox=0.679, rm=5.957, age=100.0, dis=1.8026, rad=24, tax=666, ptratio=20.2, b=16.45, lstat=20.62, medv=8.8)\n",
            "Row(crim=11.8123, zn=0.0, indus=18.1, chas=0, nox=0.718, rm=6.824, age=76.5, dis=1.794, rad=24, tax=666, ptratio=20.2, b=48.45, lstat=22.74, medv=8.4)\n",
            "Row(crim=11.0874, zn=0.0, indus=18.1, chas=0, nox=0.718, rm=6.411, age=100.0, dis=1.8589, rad=24, tax=666, ptratio=20.2, b=318.75, lstat=15.02, medv=16.7)\n",
            "Row(crim=12.0482, zn=0.0, indus=18.1, chas=0, nox=0.614, rm=5.648, age=87.6, dis=1.9512, rad=24, tax=666, ptratio=20.2, b=291.55, lstat=14.1, medv=20.8)\n",
            "Row(crim=15.8603, zn=0.0, indus=18.1, chas=0, nox=0.679, rm=5.896, age=95.4, dis=1.9096, rad=24, tax=666, ptratio=20.2, b=7.68, lstat=24.39, medv=8.3)\n",
            "Row(crim=12.2472, zn=0.0, indus=18.1, chas=0, nox=0.584, rm=5.837, age=59.7, dis=1.9976, rad=24, tax=666, ptratio=20.2, b=24.65, lstat=15.69, medv=10.2)\n",
            "Row(crim=37.6619, zn=0.0, indus=18.1, chas=0, nox=0.679, rm=6.202, age=78.7, dis=1.8629, rad=24, tax=666, ptratio=20.2, b=18.82, lstat=14.52, medv=10.9)\n",
            "Row(crim=10.0623, zn=0.0, indus=18.1, chas=0, nox=0.584, rm=6.833, age=94.3, dis=2.0882, rad=24, tax=666, ptratio=20.2, b=81.33, lstat=19.69, medv=14.1)\n",
            "Row(crim=13.9134, zn=0.0, indus=18.1, chas=0, nox=0.713, rm=6.208, age=95.0, dis=2.2222, rad=24, tax=666, ptratio=20.2, b=100.63, lstat=15.17, medv=11.7)\n",
            "Row(crim=11.1604, zn=0.0, indus=18.1, chas=0, nox=0.74, rm=6.629, age=94.6, dis=2.1247, rad=24, tax=666, ptratio=20.2, b=109.85, lstat=23.27, medv=13.4)\n",
            "Row(crim=14.4208, zn=0.0, indus=18.1, chas=0, nox=0.74, rm=6.461, age=93.3, dis=2.0026, rad=24, tax=666, ptratio=20.2, b=27.49, lstat=18.05, medv=9.6)\n",
            "Row(crim=15.1772, zn=0.0, indus=18.1, chas=0, nox=0.74, rm=6.152, age=100.0, dis=1.9142, rad=24, tax=666, ptratio=20.2, b=9.32, lstat=26.45, medv=8.7)\n",
            "Row(crim=13.6781, zn=0.0, indus=18.1, chas=0, nox=0.74, rm=5.935, age=87.9, dis=1.8206, rad=24, tax=666, ptratio=20.2, b=68.95, lstat=34.02, medv=8.4)\n",
            "Row(crim=22.0511, zn=0.0, indus=18.1, chas=0, nox=0.74, rm=5.818, age=92.4, dis=1.8662, rad=24, tax=666, ptratio=20.2, b=391.45, lstat=22.11, medv=10.5)\n",
            "Row(crim=12.8023, zn=0.0, indus=18.1, chas=0, nox=0.74, rm=5.854, age=96.6, dis=1.8956, rad=24, tax=666, ptratio=20.2, b=240.52, lstat=23.79, medv=10.8)\n",
            "Row(crim=10.6718, zn=0.0, indus=18.1, chas=0, nox=0.74, rm=6.459, age=94.8, dis=1.9879, rad=24, tax=666, ptratio=20.2, b=43.06, lstat=23.98, medv=11.8)\n",
            "Row(crim=15.5757, zn=0.0, indus=18.1, chas=0, nox=0.58, rm=5.926, age=71.0, dis=2.9084, rad=24, tax=666, ptratio=20.2, b=368.74, lstat=18.13, medv=19.1)\n",
            "Row(crim=13.0751, zn=0.0, indus=18.1, chas=0, nox=0.58, rm=5.713, age=56.7, dis=2.8237, rad=24, tax=666, ptratio=20.2, b=396.9, lstat=14.76, medv=20.1)\n",
            "Row(crim=15.0234, zn=0.0, indus=18.1, chas=0, nox=0.614, rm=5.304, age=97.3, dis=2.1007, rad=24, tax=666, ptratio=20.2, b=349.48, lstat=24.91, medv=12.0)\n",
            "Row(crim=10.233, zn=0.0, indus=18.1, chas=0, nox=0.614, rm=6.185, age=96.7, dis=2.1705, rad=24, tax=666, ptratio=20.2, b=379.7, lstat=18.03, medv=14.6)\n",
            "Row(crim=14.3337, zn=0.0, indus=18.1, chas=0, nox=0.614, rm=6.229, age=88.0, dis=1.9512, rad=24, tax=666, ptratio=20.2, b=383.32, lstat=13.11, medv=21.4)\n"
          ]
        }
      ]
    },
    {
      "cell_type": "markdown",
      "source": [
        "TASK 09: HYPOTHESIS TESTING"
      ],
      "metadata": {
        "id": "ZU3WhIW6Jdwq"
      }
    },
    {
      "cell_type": "code",
      "source": [
        "# Example:\n",
        "from scipy.stats import pearsonr\n",
        "\n",
        "# Extract \"rm\" and \"medv\" columns\n",
        "rm_values = spark_df.select(\"rm\").rdd.flatMap(lambda x: x).collect()\n",
        "medv_values = spark_df.select(\"medv\").rdd.flatMap(lambda x: x).collect()\n",
        "\n",
        "# Perform hypothesis test (e.g., Pearson correlation coefficient)\n",
        "corr_coeff, p_value = pearsonr(rm_values, medv_values)\n",
        "print(f\"\\nPearson Correlation Coefficient: {corr_coeff:.2f}\")\n",
        "print(f\"P-value: {p_value:.2f}\")\n"
      ],
      "metadata": {
        "colab": {
          "base_uri": "https://localhost:8080/"
        },
        "id": "H__wp4vRJj7W",
        "outputId": "b25150c6-2cbe-41bf-c78e-4f460d7e9a6d"
      },
      "execution_count": 44,
      "outputs": [
        {
          "output_type": "stream",
          "name": "stdout",
          "text": [
            "\n",
            "Pearson Correlation Coefficient: 0.70\n",
            "P-value: 0.00\n"
          ]
        }
      ]
    }
  ]
}